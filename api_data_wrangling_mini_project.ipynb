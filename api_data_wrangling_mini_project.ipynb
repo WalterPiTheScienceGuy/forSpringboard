{
 "cells": [
  {
   "cell_type": "markdown",
   "metadata": {},
   "source": [
    "# Student note: My answers are all displayed at bottom of notebook and in the dictionary STUDENT_ANSWERS"
   ]
  },
  {
   "cell_type": "markdown",
   "metadata": {},
   "source": [
    "This exercise will require you to pull some data from the Qunadl API. Qaundl is currently the most widely used aggregator of financial market data."
   ]
  },
  {
   "cell_type": "markdown",
   "metadata": {},
   "source": [
    "As a first step, you will need to register a free account on the http://www.quandl.com website."
   ]
  },
  {
   "cell_type": "markdown",
   "metadata": {},
   "source": [
    "After you register, you will be provided with a unique API key, that you should store:"
   ]
  },
  {
   "cell_type": "code",
   "execution_count": 1,
   "metadata": {},
   "outputs": [],
   "source": [
    "# Store the API key as a string - according to PEP8, constants are always named in all upper case\n",
    "#API_KEY = '' #API_KEY is private. Notebook computations can be reproduced with anyone's API_KEY"
   ]
  },
  {
   "cell_type": "markdown",
   "metadata": {},
   "source": [
    "Qaundl has a large number of data sources, but, unfortunately, most of them require a Premium subscription. Still, there are also a good number of free datasets."
   ]
  },
  {
   "cell_type": "markdown",
   "metadata": {},
   "source": [
    "For this mini project, we will focus on equities data from the Frankfurt Stock Exhange (FSE), which is available for free. We'll try and analyze the stock prices of a company called Carl Zeiss Meditec, which manufactures tools for eye examinations, as well as medical lasers for laser eye surgery: https://www.zeiss.com/meditec/int/home.html. The company is listed under the stock ticker AFX_X."
   ]
  },
  {
   "cell_type": "markdown",
   "metadata": {},
   "source": [
    "You can find the detailed Quandl API instructions here: https://docs.quandl.com/docs/time-series"
   ]
  },
  {
   "cell_type": "markdown",
   "metadata": {},
   "source": [
    "While there is a dedicated Python package for connecting to the Quandl API, we would prefer that you use the *requests* package, which can be easily downloaded using *pip* or *conda*. You can find the documentation for the package here: http://docs.python-requests.org/en/master/ "
   ]
  },
  {
   "cell_type": "code",
   "execution_count": 2,
   "metadata": {},
   "outputs": [
    {
     "name": "stdout",
     "output_type": "stream",
     "text": [
      "Requirement already satisfied: requests in c:\\users\\waltp\\.virtualenvs\\datascienceguidedcapstone-ncorq-8x\\lib\\site-packages (2.24.0)\n",
      "Requirement already satisfied: idna<3,>=2.5 in c:\\users\\waltp\\.virtualenvs\\datascienceguidedcapstone-ncorq-8x\\lib\\site-packages (from requests) (2.10)\n",
      "Requirement already satisfied: certifi>=2017.4.17 in c:\\users\\waltp\\.virtualenvs\\datascienceguidedcapstone-ncorq-8x\\lib\\site-packages (from requests) (2020.6.20)\n",
      "Requirement already satisfied: urllib3!=1.25.0,!=1.25.1,<1.26,>=1.21.1 in c:\\users\\waltp\\.virtualenvs\\datascienceguidedcapstone-ncorq-8x\\lib\\site-packages (from requests) (1.25.10)\n",
      "Requirement already satisfied: chardet<4,>=3.0.2 in c:\\users\\waltp\\.virtualenvs\\datascienceguidedcapstone-ncorq-8x\\lib\\site-packages (from requests) (3.0.4)\n"
     ]
    }
   ],
   "source": [
    "#!pip install requests"
   ]
  },
  {
   "cell_type": "markdown",
   "metadata": {},
   "source": [
    "Finally, apart from the *requests* package, you are encouraged to not use any third party Python packages, such as *pandas*, and instead focus on what's available in the Python Standard Library (the *collections* module might come in handy: https://pymotw.com/3/collections/ ).\n",
    "Also, since you won't have access to DataFrames, you are encouraged to us Python's native data structures - preferably dictionaries, though some questions can also be answered using lists.\n",
    "You can read more on these data structures here: https://docs.python.org/3/tutorial/datastructures.html"
   ]
  },
  {
   "cell_type": "markdown",
   "metadata": {},
   "source": [
    "Keep in mind that the JSON responses you will be getting from the API map almost one-to-one to Python's dictionaries. Unfortunately, they can be very nested, so make sure you read up on indexing dictionaries in the documentation provided above."
   ]
  },
  {
   "cell_type": "code",
   "execution_count": 3,
   "metadata": {},
   "outputs": [],
   "source": [
    "# First, import the relevant modules\n",
    "import requests\n"
   ]
  },
  {
   "cell_type": "code",
   "execution_count": 4,
   "metadata": {},
   "outputs": [
    {
     "name": "stdout",
     "output_type": "stream",
     "text": [
      "<Response [200]>\n",
      "\n",
      "\n",
      "{'dataset': {'id': 10095370, 'dataset_code': 'AFX_X', 'database_code': 'FSE', 'name': 'Carl Zeiss Meditec (AFX_X)', 'description': 'Stock Prices for Carl Zeiss Meditec (2020-11-02) from the Frankfurt Stock Exchange.<br><br>Trading System: Xetra<br><br>ISIN: DE0005313704', 'refreshed_at': '2020-12-01T14:48:09.907Z', 'newest_available_date': '2020-12-01', 'oldest_available_date': '2000-06-07', 'column_names': ['Date', 'Open', 'High', 'Low', 'Close', 'Change', 'Traded Volume', 'Turnover', 'Last Price of the Day', 'Daily Traded Units', 'Daily Turnover'], 'frequency': 'daily', 'type': 'Time Series', 'premium': False, 'limit': 1, 'transform': None, 'column_index': None, 'start_date': '2000-06-07', 'end_date': '2020-12-01', 'data': [['2020-12-01', 112.2, 112.2, 111.5, 112.0, None, 51.0, 5703.0, None, None, None]], 'collapse': None, 'order': None, 'database_id': 6129}}\n",
      "\n",
      "\n",
      "dict_keys(['dataset'])\n"
     ]
    }
   ],
   "source": [
    "# Now, call the Quandl API and pull out a small sample of the data (only one day) to get a glimpse\n",
    "# into the JSON structure that will be returned\n",
    "DATASET = 'FSE'\n",
    "TICKER = 'AFX_X'\n",
    "LIMIT = 'limit=1'\n",
    "COLLAPSE = 'collapse=day'\n",
    "Quandl_API_string = \"https://www.quandl.com/api/v3/datasets/\"+DATASET+\"/\"+TICKER+\"/?\"+COLLAPSE+\"&\"+LIMIT+\"&api_key=\"+API_KEY\n",
    "res = requests.get(Quandl_API_string)\n",
    "json_data = res.json()\n",
    "print(res) #2XX response code means success. 4XX response code means failure.\n",
    "print('\\n')\n",
    "print(json_data)\n",
    "print('\\n')\n",
    "print(json_data.keys())"
   ]
  },
  {
   "cell_type": "code",
   "execution_count": 5,
   "metadata": {},
   "outputs": [
    {
     "name": "stdout",
     "output_type": "stream",
     "text": [
      "dict_keys(['dataset'])\n",
      "\n",
      "Top-level key: dataset\n",
      "dict_keys(['id', 'dataset_code', 'database_code', 'name', 'description', 'refreshed_at', 'newest_available_date', 'oldest_available_date', 'column_names', 'frequency', 'type', 'premium', 'limit', 'transform', 'column_index', 'start_date', 'end_date', 'data', 'collapse', 'order', 'database_id'])\n"
     ]
    }
   ],
   "source": [
    "# Inspect the JSON structure of the object you created, and take note of how nested it is,\n",
    "# as well as the overall structure\n",
    "print(json_data.keys())\n",
    "for key in json_data.keys():\n",
    "    print('\\nTop-level key:', key)\n",
    "    print(json_data[key].keys())"
   ]
  },
  {
   "cell_type": "markdown",
   "metadata": {},
   "source": [
    "These are your tasks for this mini project:\n",
    "\n",
    "1. Collect data from the Franfurt Stock Exchange, for the ticker AFX_X, for the whole year 2017 (keep in mind that the date format is YYYY-MM-DD).\n",
    "2. Convert the returned JSON object into a Python dictionary.\n",
    "3. Calculate what the highest and lowest opening prices were for the stock in this period.\n",
    "4. What was the largest change in any one day (based on High and Low price)?\n",
    "5. What was the largest change between any two days (based on Closing Price)?\n",
    "6. What was the average daily trading volume during this year?\n",
    "7. (Optional) What was the median trading volume during this year. (Note: you may need to implement your own function for calculating the median.)"
   ]
  },
  {
   "cell_type": "code",
   "execution_count": 6,
   "metadata": {},
   "outputs": [],
   "source": [
    "try:  # try call is to prevent deletion of dictionary if it has already been constructed\n",
    "    print('Dictionary already constructed!\\n',STUDENT_ANSWERS)\n",
    "except: STUDENT_ANSWERS = dict() # Reader can directly access answers to questions 3-7 with this dictionary."
   ]
  },
  {
   "cell_type": "code",
   "execution_count": 7,
   "metadata": {},
   "outputs": [
    {
     "name": "stdout",
     "output_type": "stream",
     "text": [
      "Date : 2020-12-01\n",
      "Open : 112.2\n",
      "High : 112.2\n",
      "Low : 111.5\n",
      "Close : 112.0\n",
      "Change : None\n",
      "Traded Volume : 51.0\n",
      "Turnover : 5703.0\n",
      "Last Price of the Day : None\n",
      "Daily Traded Units : None\n",
      "Daily Turnover : None\n"
     ]
    }
   ],
   "source": [
    "# Dataset features of interest: Open, Low, High, Close, Traded Volume\n",
    "# Checking these out from the 1 imported day from above:\n",
    "for col, datum in zip(json_data['dataset']['column_names'], json_data['dataset']['data'][0]):\n",
    "    print(col+\" : \"+ str(datum))"
   ]
  },
  {
   "cell_type": "markdown",
   "metadata": {},
   "source": [
    "#### The 5 necessary features all have real values. Good!"
   ]
  },
  {
   "cell_type": "markdown",
   "metadata": {},
   "source": [
    "# Task 1) Collect FSE AFX_X data for whole year 2017"
   ]
  },
  {
   "cell_type": "code",
   "execution_count": 8,
   "metadata": {},
   "outputs": [
    {
     "data": {
      "text/plain": [
       "'https://www.quandl.com/api/v3/datasets/FSE/AFX_X/'"
      ]
     },
     "execution_count": 8,
     "metadata": {},
     "output_type": "execute_result"
    }
   ],
   "source": [
    "# Parse root URL of data set: DATA_URL\n",
    "DATA_URL = Quandl_API_string.split('?')[0]\n",
    "DATA_URL"
   ]
  },
  {
   "cell_type": "code",
   "execution_count": 9,
   "metadata": {},
   "outputs": [
    {
     "data": {
      "text/plain": [
       "'https://www.quandl.com/api/v3/datasets/FSE/AFX_X//?collapse=day&start_date=2017-01-01&end_date=2017-12-31&api_key=wBspijstPsj1rCRamZPH'"
      ]
     },
     "execution_count": 9,
     "metadata": {},
     "output_type": "execute_result"
    }
   ],
   "source": [
    "# Add parameters to the string: URL\n",
    "URL = DATA_URL + '/?collapse=day' + '&start_date=2017-01-01' + '&end_date=2017-12-31' + '&api_key='+API_KEY\n",
    "URL"
   ]
  },
  {
   "cell_type": "code",
   "execution_count": 10,
   "metadata": {},
   "outputs": [
    {
     "name": "stdout",
     "output_type": "stream",
     "text": [
      "<Response [200]>\n"
     ]
    }
   ],
   "source": [
    "# Collect data for whole year 2017: r\n",
    "r = requests.get(URL)\n",
    "print(r)"
   ]
  },
  {
   "cell_type": "markdown",
   "metadata": {},
   "source": [
    "# Task 2) Convert the returned JSON object to a python dictionary"
   ]
  },
  {
   "cell_type": "code",
   "execution_count": 11,
   "metadata": {},
   "outputs": [
    {
     "name": "stdout",
     "output_type": "stream",
     "text": [
      "dict_keys(['dataset'])\n",
      "\n",
      "Top-level key dataset contains lower-level keys:\n",
      "\n",
      "dict_keys(['id', 'dataset_code', 'database_code', 'name', 'description', 'refreshed_at', 'newest_available_date', 'oldest_available_date', 'column_names', 'frequency', 'type', 'premium', 'limit', 'transform', 'column_index', 'start_date', 'end_date', 'data', 'collapse', 'order', 'database_id'])\n"
     ]
    }
   ],
   "source": [
    "# Extract initial dictionary: json_daily_2017\n",
    "json_daily_2017 = r.json()\n",
    "\n",
    "# Make sure this is the same structure as above, with one top-level key containing many other keys\n",
    "print(json_daily_2017.keys())\n",
    "for key in json_daily_2017.keys():\n",
    "    print('\\nTop-level key', key, 'contains lower-level keys:\\n')\n",
    "    print(json_daily_2017[key].keys())"
   ]
  },
  {
   "cell_type": "code",
   "execution_count": 12,
   "metadata": {},
   "outputs": [
    {
     "name": "stdout",
     "output_type": "stream",
     "text": [
      "dict_keys(['id', 'dataset_code', 'database_code', 'name', 'description', 'refreshed_at', 'newest_available_date', 'oldest_available_date', 'column_names', 'frequency', 'type', 'premium', 'limit', 'transform', 'column_index', 'start_date', 'end_date', 'data', 'collapse', 'order', 'database_id'])\n"
     ]
    }
   ],
   "source": [
    "# Nothing is lost by \"subsetting\" the lone top-level key of 'dataset': data_2017\n",
    "data_2017 = json_daily_2017['dataset']\n",
    "print(data_2017.keys())"
   ]
  },
  {
   "cell_type": "code",
   "execution_count": 13,
   "metadata": {},
   "outputs": [
    {
     "name": "stdout",
     "output_type": "stream",
     "text": [
      "255 \n",
      "\n",
      "['Date', 'Open', 'High', 'Low', 'Close', 'Change', 'Traded Volume', 'Turnover', 'Last Price of the Day', 'Daily Traded Units', 'Daily Turnover']\n",
      "{'keys': ['Date', 'Open', 'High', 'Low', 'Close', 'Change', 'Traded Volume', 'Turnover', 'Last Price of the Day', 'Daily Traded Units', 'Daily Turnover'], 'values': ['2017-01-02', 34.99, 35.94, 34.99, 35.8, None, 44700.0, 1590561.0, None, None, None]} \n",
      "\n",
      "{'keys': ['Date', 'Open', 'High', 'Low', 'Close', 'Change', 'Traded Volume', 'Turnover', 'Last Price of the Day', 'Daily Traded Units', 'Daily Turnover'], 'values': ['2017-12-29', 51.76, 51.94, 51.45, 51.76, None, 34640.0, 1792304.0, None, None, None]} \n",
      "\n"
     ]
    }
   ],
   "source": [
    "#Verify data structure is list of lists with outer list being day and inner list being columns\n",
    "print(len(data_2017['data']), '\\n') # Looking for a length of around 250 --> Number of trading days in the year.\n",
    "\n",
    "#Verify that each day's entry looks similar to the single day example at start of the notebook\n",
    "column_names = data_2017['column_names']\n",
    "print(column_names)\n",
    "print(dict(keys=column_names, values=data_2017['data'][-1]),'\\n')\n",
    "print(dict(keys=column_names, values=data_2017['data'][0]),'\\n')"
   ]
  },
  {
   "cell_type": "code",
   "execution_count": 14,
   "metadata": {},
   "outputs": [
    {
     "name": "stdout",
     "output_type": "stream",
     "text": [
      "['Date', 'Open', 'High', 'Low', 'Close', 'Change', 'Traded_Volume', 'Turnover', 'Last_Price_of_the_Day', 'Daily_Traded_Units', 'Daily_Turnover']\n",
      "('Date', 'Open', 'High', 'Low', 'Close', 'Change', 'Traded_Volume', 'Turnover', 'Last_Price_of_the_Day', 'Daily_Traded_Units', 'Daily_Turnover')\n"
     ]
    }
   ],
   "source": [
    "# I would prefer to have dictionary keys be column names rather than dates.\n",
    "# namedtuple objects can help with this.\n",
    "from collections import namedtuple\n",
    "\n",
    "col_list = []\n",
    "for col in column_names:\n",
    "    col_list.append(col.replace(' ', '_')) # namedtuple apparently doesn't like spaces\n",
    "print(col_list)\n",
    "\n",
    "DayEntries = namedtuple('DayEntries', col_list)\n",
    "print(DayEntries._fields)"
   ]
  },
  {
   "cell_type": "code",
   "execution_count": 15,
   "metadata": {},
   "outputs": [
    {
     "name": "stdout",
     "output_type": "stream",
     "text": [
      "DayEntries(Date='2017-01-02', Open=34.99, High=35.94, Low=34.99, Close=35.8, Change=None, Traded_Volume=44700.0, Turnover=1590561.0, Last_Price_of_the_Day=None, Daily_Traded_Units=None, Daily_Turnover=None)\n",
      "DayEntries(Date='2017-12-29', Open=51.76, High=51.94, Low=51.45, Close=51.76, Change=None, Traded_Volume=34640.0, Turnover=1792304.0, Last_Price_of_the_Day=None, Daily_Traded_Units=None, Daily_Turnover=None)\n"
     ]
    }
   ],
   "source": [
    "#Enter data rows in namedtuple form into list\n",
    "list_data_by_day = []\n",
    "for data_by_day in data_2017['data'][-1::-1]: #Reverse order so first entry is first trading day of year.\n",
    "    list_data_by_day.append(DayEntries(*data_by_day))\n",
    "print(list_data_by_day[0])\n",
    "print(list_data_by_day[-1])"
   ]
  },
  {
   "cell_type": "code",
   "execution_count": 16,
   "metadata": {},
   "outputs": [
    {
     "data": {
      "text/plain": [
       "{'Date': '2017-01-02',\n",
       " 'Open': 34.99,\n",
       " 'High': 35.94,\n",
       " 'Low': 34.99,\n",
       " 'Close': 35.8,\n",
       " 'Change': None,\n",
       " 'Traded_Volume': 44700.0,\n",
       " 'Turnover': 1590561.0,\n",
       " 'Last_Price_of_the_Day': None,\n",
       " 'Daily_Traded_Units': None,\n",
       " 'Daily_Turnover': None}"
      ]
     },
     "execution_count": 16,
     "metadata": {},
     "output_type": "execute_result"
    }
   ],
   "source": [
    "list_data_by_day[0]._asdict() # namedtuple can be expressed as dictionary for easier access"
   ]
  },
  {
   "cell_type": "code",
   "execution_count": 17,
   "metadata": {},
   "outputs": [
    {
     "name": "stdout",
     "output_type": "stream",
     "text": [
      "dict_keys(['Date', 'Open', 'High', 'Low', 'Close', 'Change', 'Traded_Volume', 'Turnover', 'Last_Price_of_the_Day', 'Daily_Traded_Units', 'Daily_Turnover']) \n",
      "\n",
      "Date : ['2017-01-02', '2017-01-03', '2017-01-04', '2017-01-05', '2017-01-06']\n",
      "Open : [34.99, 35.9, 35.48, 35.02, 34.91]\n",
      "High : [35.94, 35.93, 35.51, 35.2, 35.21]\n",
      "Low : [34.99, 35.34, 34.75, 34.73, 34.91]\n",
      "Close : [35.8, 35.48, 35.19, 35.06, 35.04]\n",
      "Change : [None, None, None, None, None]\n",
      "Traded_Volume : [44700.0, 70618.0, 54408.0, 48412.0, 27507.0]\n",
      "Turnover : [1590561.0, 2515473.0, 1906810.0, 1692326.0, 964046.0]\n",
      "Last_Price_of_the_Day : [None, None, None, None, None]\n",
      "Daily_Traded_Units : [None, None, None, None, None]\n",
      "Daily_Turnover : [None, None, None, None, None]\n"
     ]
    }
   ],
   "source": [
    "# Convert to dictionary form with column names as keys and value sequences as list\n",
    "final_dict = {col : [] for col in col_list}\n",
    "print(final_dict.keys(),'\\n')\n",
    "for col in final_dict.keys():\n",
    "    for data_by_day in list_data_by_day:\n",
    "        details = data_by_day._asdict()\n",
    "        final_dict[col].append(details[col]) # Construct dictionary\n",
    "for key in final_dict.keys():\n",
    "    print(key, \":\", final_dict[key][:5]) # Show examples from dictionary"
   ]
  },
  {
   "cell_type": "markdown",
   "metadata": {},
   "source": [
    "# Task 3) Calculate highest and lowest opening prices for 2017"
   ]
  },
  {
   "cell_type": "code",
   "execution_count": 18,
   "metadata": {},
   "outputs": [
    {
     "data": {
      "text/plain": [
       "35.9"
      ]
     },
     "execution_count": 18,
     "metadata": {},
     "output_type": "execute_result"
    }
   ],
   "source": [
    "#Make sure I can access Open list\n",
    "# max(final_dict['Open']) gives an error due to NoneType entries\n",
    "max(final_dict['Open'][:5]) # but it works when limited to a few values that I know are numeric."
   ]
  },
  {
   "cell_type": "code",
   "execution_count": 19,
   "metadata": {},
   "outputs": [
    {
     "name": "stdout",
     "output_type": "stream",
     "text": [
      "<class 'NoneType'> Index #: 74 , Date: 2017-04-14\n",
      "DayEntries(Date='2017-04-14', Open=None, High=42.48, Low=41.985, Close=42.2, Change=None, Traded_Volume=88416.0, Turnover=3734717.0, Last_Price_of_the_Day=None, Daily_Traded_Units=None, Daily_Turnover=None) \n",
      "\n",
      "<class 'NoneType'> Index #: 75 , Date: 2017-04-17\n",
      "DayEntries(Date='2017-04-17', Open=None, High=42.48, Low=41.985, Close=42.2, Change=None, Traded_Volume=88416.0, Turnover=3734717.0, Last_Price_of_the_Day=None, Daily_Traded_Units=None, Daily_Turnover=None) \n",
      "\n",
      "<class 'NoneType'> Index #: 85 , Date: 2017-05-01\n",
      "DayEntries(Date='2017-05-01', Open=None, High=42.245, Low=41.655, Close=41.72, Change=-0.44, Traded_Volume=86348.0, Turnover=3606589.0, Last_Price_of_the_Day=None, Daily_Traded_Units=None, Daily_Turnover=None) \n",
      "\n"
     ]
    }
   ],
   "source": [
    "#Find NoneType entries\n",
    "Open_null_record = []\n",
    "for i, entry in enumerate(final_dict['Open']):\n",
    "    if type(entry) != float:\n",
    "        print(type(entry), 'Index #:', i, ', Date:', final_dict['Date'][i])\n",
    "        print(list_data_by_day[i], '\\n')\n",
    "        Open_null_record.append(i)"
   ]
  },
  {
   "cell_type": "markdown",
   "metadata": {},
   "source": [
    "##### Given there are only 3 values like this, I suspect it is a problem with the database rather than my code."
   ]
  },
  {
   "cell_type": "code",
   "execution_count": 20,
   "metadata": {},
   "outputs": [
    {
     "name": "stdout",
     "output_type": "stream",
     "text": [
      "Highest open: 53.11\n",
      "Lowest oepn: 34.0\n"
     ]
    }
   ],
   "source": [
    "# Obtain max and min while skipping missing values\n",
    "HIGHEST_OPEN = max([x for i, x in enumerate(final_dict['Open']) if i not in Open_null_record])\n",
    "print('Highest open:', HIGHEST_OPEN)\n",
    "LOWEST_OPEN = min([x for i, x in enumerate(final_dict['Open']) if i not in Open_null_record])\n",
    "print('Lowest oepn:', LOWEST_OPEN)"
   ]
  },
  {
   "cell_type": "code",
   "execution_count": 21,
   "metadata": {},
   "outputs": [],
   "source": [
    "STUDENT_ANSWERS['Task3'] = {'HIGHEST_OPEN':HIGHEST_OPEN, 'LOWEST_OPEN':LOWEST_OPEN}"
   ]
  },
  {
   "cell_type": "markdown",
   "metadata": {},
   "source": [
    "# Task 4) Largest change in any one day \n",
    "### (High minus Low)"
   ]
  },
  {
   "cell_type": "code",
   "execution_count": 22,
   "metadata": {},
   "outputs": [
    {
     "name": "stdout",
     "output_type": "stream",
     "text": [
      "All values of 'High' are floats!\n"
     ]
    }
   ],
   "source": [
    "#Find NoneType entries\n",
    "High_null_record = []\n",
    "for i, entry in enumerate(final_dict['High']):\n",
    "    if type(entry) != float:\n",
    "        print(type(entry), 'Index #:', i, ', Date:', final_dict['Date'][i])\n",
    "        print(list_data_by_day[i], '\\n')\n",
    "        High_null_record.append(i)\n",
    "if len(High_null_record) == 0:\n",
    "    print('All values of \\'High\\' are floats!')"
   ]
  },
  {
   "cell_type": "code",
   "execution_count": 23,
   "metadata": {},
   "outputs": [
    {
     "name": "stdout",
     "output_type": "stream",
     "text": [
      "All values of 'Low' are floats!\n"
     ]
    }
   ],
   "source": [
    "#Find NoneType entries\n",
    "Low_null_record = []\n",
    "for i, entry in enumerate(final_dict['Low']):\n",
    "    if type(entry) != float:\n",
    "        print(type(entry), 'Index #:', i, ', Date:', final_dict['Date'][i])\n",
    "        print(list_data_by_day[i], '\\n')\n",
    "        Low_null_record.append(i)\n",
    "if len(Low_null_record) == 0:\n",
    "    print('All values of \\'Low\\' are floats!')"
   ]
  },
  {
   "cell_type": "code",
   "execution_count": 24,
   "metadata": {},
   "outputs": [
    {
     "name": "stdout",
     "output_type": "stream",
     "text": [
      "[35.94, 35.93, 35.51] \n",
      "\n",
      "[34.99, 35.34, 34.75] \n",
      "\n",
      "[0.9499999999999957, 0.5899999999999963, 0.759999999999998] \n",
      "\n"
     ]
    }
   ],
   "source": [
    "final_dict['High_minus_Low'] = []\n",
    "for i in range(len(list_data_by_day)):\n",
    "    diff = final_dict['High'][i] - final_dict['Low'][i]\n",
    "    final_dict['High_minus_Low'].append(diff)\n",
    "print(final_dict['High'][:3], '\\n')\n",
    "print(final_dict['Low'][:3], '\\n')\n",
    "print(final_dict['High_minus_Low'][:3], '\\n')"
   ]
  },
  {
   "cell_type": "code",
   "execution_count": 25,
   "metadata": {},
   "outputs": [
    {
     "data": {
      "text/plain": [
       "0.18999999999999773"
      ]
     },
     "execution_count": 25,
     "metadata": {},
     "output_type": "execute_result"
    }
   ],
   "source": [
    "min(final_dict['High_minus_Low']) # Just making sure the highs are always higher than lows."
   ]
  },
  {
   "cell_type": "code",
   "execution_count": 26,
   "metadata": {},
   "outputs": [
    {
     "name": "stdout",
     "output_type": "stream",
     "text": [
      "2.8100000000000023\n"
     ]
    }
   ],
   "source": [
    "LARGEST_CHANGE = max(final_dict['High_minus_Low'])\n",
    "print(LARGEST_CHANGE)"
   ]
  },
  {
   "cell_type": "code",
   "execution_count": 27,
   "metadata": {},
   "outputs": [],
   "source": [
    "STUDENT_ANSWERS['Task4'] = {'LARGEST_CHANGE': LARGEST_CHANGE}"
   ]
  },
  {
   "cell_type": "markdown",
   "metadata": {},
   "source": [
    "# Task 5) What was the largest change between any two days (based on Closing Price)? \n",
    "### (I am assuming this means between any two subsequent days)"
   ]
  },
  {
   "cell_type": "code",
   "execution_count": 28,
   "metadata": {},
   "outputs": [
    {
     "data": {
      "text/plain": [
       "255"
      ]
     },
     "execution_count": 28,
     "metadata": {},
     "output_type": "execute_result"
    }
   ],
   "source": [
    "len(final_dict['Close'])"
   ]
  },
  {
   "cell_type": "code",
   "execution_count": 29,
   "metadata": {},
   "outputs": [
    {
     "name": "stdout",
     "output_type": "stream",
     "text": [
      "All values of 'Close' are floats!\n"
     ]
    }
   ],
   "source": [
    "#Find NoneType entries\n",
    "Close_null_record = []\n",
    "for i, entry in enumerate(final_dict['Close']):\n",
    "    if type(entry) != float:\n",
    "        print(type(entry), 'Index #:', i, ', Date:', final_dict['Date'][i])\n",
    "        print(list_data_by_day[i], '\\n')\n",
    "        Close_null_record.append(i)\n",
    "if len(Close_null_record) == 0:\n",
    "    print('All values of \\'Close\\' are floats!')"
   ]
  },
  {
   "cell_type": "code",
   "execution_count": 30,
   "metadata": {},
   "outputs": [],
   "source": [
    "close_between_days = [final_dict['Close'][i+1] - final_dict['Close'][i] for i in range(len(final_dict['Close']) - 1)]"
   ]
  },
  {
   "cell_type": "code",
   "execution_count": 31,
   "metadata": {},
   "outputs": [
    {
     "name": "stdout",
     "output_type": "stream",
     "text": [
      "-2.559999999999995\n",
      "1.7199999999999989\n"
     ]
    }
   ],
   "source": [
    "low_end = min(close_between_days)\n",
    "print(low_end)\n",
    "high_end = max(close_between_days)\n",
    "print(high_end)"
   ]
  },
  {
   "cell_type": "code",
   "execution_count": 32,
   "metadata": {},
   "outputs": [],
   "source": [
    "LARGEST_CHANGE_BETWEEN_DAYS = low_end\n",
    "STUDENT_ANSWERS['Task5'] = {'LARGEST_CHANGE_BETWEEN_DAYS':LARGEST_CHANGE_BETWEEN_DAYS}"
   ]
  },
  {
   "cell_type": "code",
   "execution_count": 33,
   "metadata": {},
   "outputs": [
    {
     "name": "stdout",
     "output_type": "stream",
     "text": [
      "{'Task3': {'HIGHEST_OPEN': 53.11, 'LOWEST_OPEN': 34.0}, 'Task4': {'LARGEST_CHANGE': 2.8100000000000023}, 'Task5': {'LARGEST_CHANGE_BETWEEN_DAYS': -2.559999999999995}}\n"
     ]
    }
   ],
   "source": [
    "print(STUDENT_ANSWERS)"
   ]
  },
  {
   "cell_type": "markdown",
   "metadata": {},
   "source": [
    "# Task 6) What was the average daily trading volume during this year?"
   ]
  },
  {
   "cell_type": "code",
   "execution_count": 34,
   "metadata": {},
   "outputs": [
    {
     "name": "stdout",
     "output_type": "stream",
     "text": [
      "All values of 'Traded_Volume' are floats!\n"
     ]
    }
   ],
   "source": [
    "#Find NoneType entries\n",
    "Traded_Volume_null_record = []\n",
    "for i, entry in enumerate(final_dict['Traded_Volume']):\n",
    "    if type(entry) != float:\n",
    "        print(type(entry), 'Index #:', i, ', Date:', final_dict['Date'][i])\n",
    "        print(list_data_by_day[i], '\\n')\n",
    "        Traded_Volume_null_record.append(i)\n",
    "if len(Traded_Volume_null_record) == 0:\n",
    "    print('All values of \\'Traded_Volume\\' are floats!')"
   ]
  },
  {
   "cell_type": "code",
   "execution_count": 35,
   "metadata": {},
   "outputs": [
    {
     "data": {
      "text/plain": [
       "89124.33725490196"
      ]
     },
     "execution_count": 35,
     "metadata": {},
     "output_type": "execute_result"
    }
   ],
   "source": [
    "MEAN_VOLUME = sum(final_dict['Traded_Volume']) / len(final_dict['Traded_Volume'])\n",
    "MEAN_VOLUME"
   ]
  },
  {
   "cell_type": "code",
   "execution_count": 36,
   "metadata": {},
   "outputs": [
    {
     "data": {
      "text/plain": [
       "{'Task3': {'HIGHEST_OPEN': 53.11, 'LOWEST_OPEN': 34.0},\n",
       " 'Task4': {'LARGEST_CHANGE': 2.8100000000000023},\n",
       " 'Task5': {'LARGEST_CHANGE_BETWEEN_DAYS': -2.559999999999995},\n",
       " 'Task6': {'MEAN_VOLUME': 89124.33725490196}}"
      ]
     },
     "execution_count": 36,
     "metadata": {},
     "output_type": "execute_result"
    }
   ],
   "source": [
    "STUDENT_ANSWERS['Task6'] = {'MEAN_VOLUME': MEAN_VOLUME}\n",
    "STUDENT_ANSWERS"
   ]
  },
  {
   "cell_type": "markdown",
   "metadata": {},
   "source": [
    "# Task 7) (Optional) What was the median trading volume during this year. (Note: you may need to implement your own function for calculating the median.)"
   ]
  },
  {
   "cell_type": "code",
   "execution_count": 37,
   "metadata": {},
   "outputs": [],
   "source": [
    "def sort_numeric(input_list_array_like):\n",
    "    \"\"\"\n",
    "    Sort a numeric list.\n",
    "    \n",
    "    Input:\n",
    "    input_list_array_like should be type list with only numeric dtypes and odd length\n",
    "    \n",
    "    Output:\n",
    "    median is the median value\n",
    "    median_index is index value of median within list\n",
    "    \"\"\"\n",
    "    for i, value_i in enumerate(input_list_array_like):\n",
    "        count_below_or_even = 0\n",
    "        for value_k in input_list_array_like:\n",
    "            if value_i >= value_k:\n",
    "                count_below_or_even += 1\n",
    "        if count_below_or_even == 128:\n",
    "            median_index = i\n",
    "            median = value_i\n",
    "            print(count_below_or_even, median_index, median)\n",
    "    return(median, median_index)              \n"
   ]
  },
  {
   "cell_type": "code",
   "execution_count": 38,
   "metadata": {},
   "outputs": [
    {
     "name": "stdout",
     "output_type": "stream",
     "text": [
      "128 222 76286.0\n"
     ]
    },
    {
     "data": {
      "text/plain": [
       "76286.0"
      ]
     },
     "execution_count": 38,
     "metadata": {},
     "output_type": "execute_result"
    }
   ],
   "source": [
    "MEDIAN_VOLUME, MEDIAN_VOLUME_INDEX = sort_numeric(final_dict['Traded_Volume'])\n",
    "MEDIAN_VOLUME"
   ]
  },
  {
   "cell_type": "code",
   "execution_count": 39,
   "metadata": {},
   "outputs": [
    {
     "name": "stdout",
     "output_type": "stream",
     "text": [
      "2017-11-13\n",
      "76286.0\n",
      "DayEntries(Date='2017-11-13', Open=48.38, High=48.61, Low=47.76, Close=48.34, Change=None, Traded_Volume=76286.0, Turnover=3681337.0, Last_Price_of_the_Day=None, Daily_Traded_Units=None, Daily_Turnover=None)\n"
     ]
    }
   ],
   "source": [
    "print(final_dict['Date'][MEDIAN_VOLUME_INDEX])\n",
    "print(final_dict['Traded_Volume'][MEDIAN_VOLUME_INDEX])\n",
    "print(list_data_by_day[MEDIAN_VOLUME_INDEX])"
   ]
  },
  {
   "cell_type": "code",
   "execution_count": 40,
   "metadata": {},
   "outputs": [],
   "source": [
    "STUDENT_ANSWERS['Task7'] = {'MEDIAN_VOLUME':MEDIAN_VOLUME}"
   ]
  },
  {
   "cell_type": "code",
   "execution_count": 41,
   "metadata": {},
   "outputs": [
    {
     "data": {
      "text/plain": [
       "{'Task3': {'HIGHEST_OPEN': 53.11, 'LOWEST_OPEN': 34.0},\n",
       " 'Task4': {'LARGEST_CHANGE': 2.8100000000000023},\n",
       " 'Task5': {'LARGEST_CHANGE_BETWEEN_DAYS': -2.559999999999995},\n",
       " 'Task6': {'MEAN_VOLUME': 89124.33725490196},\n",
       " 'Task7': {'MEDIAN_VOLUME': 76286.0}}"
      ]
     },
     "execution_count": 41,
     "metadata": {},
     "output_type": "execute_result"
    }
   ],
   "source": [
    "STUDENT_ANSWERS"
   ]
  },
  {
   "cell_type": "markdown",
   "metadata": {},
   "source": [
    "# My answers:\n",
    "### {'Task3': {'HIGHEST_OPEN': 53.11, 'LOWEST_OPEN': 34.0},\n",
    "### 'Task4': {'LARGEST_CHANGE': 2.8100000000000023},\n",
    "### 'Task5': {'LARGEST_CHANGE_BETWEEN_DAYS': -2.559999999999995},\n",
    "### 'Task6': {'MEAN_VOLUME': 89124.33725490196},\n",
    "### 'Task7': {'MEDIAN_VOLUME': 76286.0}}"
   ]
  },
  {
   "cell_type": "code",
   "execution_count": null,
   "metadata": {},
   "outputs": [],
   "source": []
  }
 ],
 "metadata": {
  "kernelspec": {
   "display_name": "Python 3",
   "language": "python",
   "name": "python3"
  },
  "language_info": {
   "codemirror_mode": {
    "name": "ipython",
    "version": 3
   },
   "file_extension": ".py",
   "mimetype": "text/x-python",
   "name": "python",
   "nbconvert_exporter": "python",
   "pygments_lexer": "ipython3",
   "version": "3.8.1"
  }
 },
 "nbformat": 4,
 "nbformat_minor": 4
}
